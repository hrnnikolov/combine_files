{
 "cells": [
  {
   "cell_type": "code",
   "execution_count": 3,
   "id": "bb692eb8",
   "metadata": {},
   "outputs": [
    {
     "name": "stdout",
     "output_type": "stream",
     "text": [
      "Enter the name of the combined fileall_codes-18.09\n",
      "Files in the directory: C:\\Users\\hnikolov\\Desktop\\backups\\scripts_jupyter\\combine_files\n"
     ]
    }
   ],
   "source": [
    "from pathlib import Path\n",
    "from datetime import datetime\n",
    "import os\n",
    "import re\n",
    "import pandas as pd\n",
    "import numpy as np\n",
    "\n",
    "count = 0\n",
    "files_to_be_merged = []\n",
    "list_num_of_columns = []\n",
    "files_short = []\n",
    "check_file = []\n",
    "combined_final_file = input('Enter the name of the combined file')\n",
    "\n",
    "Direc = os.getcwd()\n",
    "print(f\"Files in the directory: {Direc}\")\n",
    " \n",
    "files = os.listdir(Direc)\n",
    "files = [f for f in files if os.path.isfile(Direc+'/'+f)] #Filtering only the files.\n",
    "\n",
    "r = re.compile(\".*xlsx\")\n",
    "newlist = list(filter(r.match, files)) # Read Note below\n",
    "\n",
    "\n",
    "files_to_be_merged = []\n",
    "for f in range(1,len(newlist)+1):\n",
    "    files_to_be_merged.append('file'+ str(f))\n",
    "\n",
    "for k in range(1,len(newlist)+1):\n",
    "    files_short.append('file'+ str(k)+'_short')\n",
    "    \n",
    "    \n",
    "for f in range(len(newlist)):\n",
    "    files_to_be_merged[f] = pd.read_excel (newlist[f])\n",
    "    \n",
    "'''takes the first file with the most columns'''\n",
    "max_column = 0\n",
    "range_max_column = len(files_short)\n",
    "\n",
    "        \n",
    "combined_file = pd.concat(files_to_be_merged)\n",
    "\n",
    "\n",
    "combined_file.to_excel(f\"{combined_final_file}.xlsx\",index=False)\n"
   ]
  },
  {
   "cell_type": "code",
   "execution_count": null,
   "id": "8841a641",
   "metadata": {},
   "outputs": [],
   "source": []
  }
 ],
 "metadata": {
  "kernelspec": {
   "display_name": "Python 3 (ipykernel)",
   "language": "python",
   "name": "python3"
  },
  "language_info": {
   "codemirror_mode": {
    "name": "ipython",
    "version": 3
   },
   "file_extension": ".py",
   "mimetype": "text/x-python",
   "name": "python",
   "nbconvert_exporter": "python",
   "pygments_lexer": "ipython3",
   "version": "3.10.9"
  }
 },
 "nbformat": 4,
 "nbformat_minor": 5
}
